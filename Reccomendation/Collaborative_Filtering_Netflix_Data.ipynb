{
 "cells": [
  {
   "cell_type": "markdown",
   "metadata": {
    "deletable": false,
    "editable": false,
    "nbgrader": {
     "checksum": "c01341af646d3b0ee211791509c9a1fd",
     "grade": false,
     "grade_id": "cell-c221f36c8cb8cc40",
     "locked": true,
     "schema_version": 1,
     "solution": false
    }
   },
   "source": [
    "# Recommendation systems\n",
    "Welcome to your first homework assignment about recommendation systems.\n"
   ]
  },
  {
   "cell_type": "markdown",
   "metadata": {
    "deletable": false,
    "editable": false,
    "nbgrader": {
     "checksum": "72f19a9d892bcda62e9635861cacb735",
     "grade": false,
     "grade_id": "cell-5ceae71aaff52339",
     "locked": true,
     "schema_version": 1,
     "solution": false
    }
   },
   "source": [
    "## The Cold Start Problem \n",
    "\n",
    "The colaborative filtering method discussed in class does not address the problem of new user or new movies. What prediction would you use in these cases:\n",
    "\n",
    "* A new user but a known movie\n",
    "* A new movie and a known user\n",
    "* A new user and new movie"
   ]
  },
  {
   "cell_type": "code",
   "execution_count": 976,
   "metadata": {
    "ExecuteTime": {
     "end_time": "2019-01-29T06:30:26.245019Z",
     "start_time": "2019-01-29T06:30:26.225401Z"
    },
    "collapsed": true
   },
   "outputs": [],
   "source": [
    "import numpy as np\n",
    "import pandas as pd"
   ]
  },
  {
   "cell_type": "markdown",
   "metadata": {
    "deletable": false,
    "editable": false,
    "nbgrader": {
     "checksum": "bcaa736523b6e2ff0267a99e13938158",
     "grade": false,
     "grade_id": "cell-0ea2a22f6bbdabbc",
     "locked": false,
     "schema_version": 1,
     "solution": false
    }
   },
   "source": [
    "## Encoding rating data\n",
    "Here are our very small subset of fake data to get us started."
   ]
  },
  {
   "cell_type": "code",
   "execution_count": 977,
   "metadata": {
    "ExecuteTime": {
     "end_time": "2019-01-29T06:30:26.463366Z",
     "start_time": "2019-01-29T06:30:26.252363Z"
    }
   },
   "outputs": [
    {
     "name": "stdout",
     "output_type": "stream",
     "text": [
      "userId,movieId,rating\r\n",
      "11,1,4\r\n",
      "11,23,5\r\n",
      "2,23,5\r\n",
      "2,4,3\r\n",
      "31,1,4\r\n",
      "31,23,4\r\n",
      "4,1,5\r\n",
      "4,3,2\r\n",
      "52,1,1\r\n",
      "52,3,4\r\n",
      "61,3,5\r\n",
      "7,23,1\r\n",
      "7,3,3\r\n"
     ]
    }
   ],
   "source": [
    "# The first row says that user 11 reated movie 1 with a score of 4\n",
    "!cat tiny_training2.csv "
   ]
  },
  {
   "cell_type": "code",
   "execution_count": 1019,
   "metadata": {
    "ExecuteTime": {
     "end_time": "2019-01-29T19:08:40.334413Z",
     "start_time": "2019-01-29T19:08:40.326538Z"
    },
    "collapsed": true,
    "deletable": false,
    "editable": false,
    "nbgrader": {
     "checksum": "14535f6dc2c9b8a691698d3d28f21b89",
     "grade": false,
     "grade_id": "cell-44b682275c3630cc",
     "locked": true,
     "schema_version": 1,
     "solution": false
    }
   },
   "outputs": [],
   "source": [
    "# here is a handy function from fast.ai\n",
    "def proc_col(col):\n",
    "    \"\"\"Encodes a pandas column with continous ids. \n",
    "    \"\"\"\n",
    "    uniq = col.unique()\n",
    "    name2idx = {o:i for i,o in enumerate(uniq)}\n",
    "    return name2idx, np.array([name2idx[x] for x in col]), len(uniq)"
   ]
  },
  {
   "cell_type": "code",
   "execution_count": 979,
   "metadata": {
    "ExecuteTime": {
     "end_time": "2019-01-29T06:30:26.485757Z",
     "start_time": "2019-01-29T06:30:26.481610Z"
    },
    "collapsed": true,
    "deletable": false,
    "nbgrader": {
     "checksum": "04f2fd8d1394e69d038ecc4e1d1df6ac",
     "grade": false,
     "grade_id": "cell-41f615ff687624c5",
     "locked": false,
     "schema_version": 1,
     "solution": true
    }
   },
   "outputs": [],
   "source": [
    "def encode_data(df):\n",
    "    \"\"\"Encodes rating data with continous user and movie ids using \n",
    "    the helpful fast.ai function from above.\n",
    "    \n",
    "    Arguments:\n",
    "      train_csv: a csv file with columns user_id,movie_id,rating \n",
    "    \n",
    "    Returns:\n",
    "      df: a dataframe with the encode data\n",
    "      num_users\n",
    "      num_movies\n",
    "      \n",
    "    \"\"\"\n",
    "    # YOUR CODE HERE\n",
    "    _,df['userId'],num_users = proc_col(df['userId'])\n",
    "    _,df['movieId'],num_movies = proc_col(df['movieId'])\n",
    "\n",
    "    return df, num_users, num_movies"
   ]
  },
  {
   "cell_type": "code",
   "execution_count": 980,
   "metadata": {
    "ExecuteTime": {
     "end_time": "2019-01-29T06:30:26.523124Z",
     "start_time": "2019-01-29T06:30:26.487962Z"
    },
    "collapsed": true,
    "deletable": false,
    "editable": false,
    "nbgrader": {
     "checksum": "d68d9f144f61298588aa5501486d093b",
     "grade": false,
     "grade_id": "cell-20524cf964cd86f3",
     "locked": true,
     "schema_version": 1,
     "solution": false
    }
   },
   "outputs": [],
   "source": [
    "df = pd.read_csv(\"tiny_training2.csv\")\n",
    "df, num_users, num_movies = encode_data(df)"
   ]
  },
  {
   "cell_type": "code",
   "execution_count": 981,
   "metadata": {
    "ExecuteTime": {
     "end_time": "2019-01-29T06:30:26.557715Z",
     "start_time": "2019-01-29T06:30:26.527836Z"
    }
   },
   "outputs": [
    {
     "data": {
      "text/html": [
       "<div>\n",
       "<style scoped>\n",
       "    .dataframe tbody tr th:only-of-type {\n",
       "        vertical-align: middle;\n",
       "    }\n",
       "\n",
       "    .dataframe tbody tr th {\n",
       "        vertical-align: top;\n",
       "    }\n",
       "\n",
       "    .dataframe thead th {\n",
       "        text-align: right;\n",
       "    }\n",
       "</style>\n",
       "<table border=\"1\" class=\"dataframe\">\n",
       "  <thead>\n",
       "    <tr style=\"text-align: right;\">\n",
       "      <th></th>\n",
       "      <th>userId</th>\n",
       "      <th>movieId</th>\n",
       "      <th>rating</th>\n",
       "    </tr>\n",
       "  </thead>\n",
       "  <tbody>\n",
       "    <tr>\n",
       "      <th>0</th>\n",
       "      <td>0</td>\n",
       "      <td>0</td>\n",
       "      <td>4</td>\n",
       "    </tr>\n",
       "    <tr>\n",
       "      <th>1</th>\n",
       "      <td>0</td>\n",
       "      <td>1</td>\n",
       "      <td>5</td>\n",
       "    </tr>\n",
       "    <tr>\n",
       "      <th>2</th>\n",
       "      <td>1</td>\n",
       "      <td>1</td>\n",
       "      <td>5</td>\n",
       "    </tr>\n",
       "    <tr>\n",
       "      <th>3</th>\n",
       "      <td>1</td>\n",
       "      <td>2</td>\n",
       "      <td>3</td>\n",
       "    </tr>\n",
       "    <tr>\n",
       "      <th>4</th>\n",
       "      <td>2</td>\n",
       "      <td>0</td>\n",
       "      <td>4</td>\n",
       "    </tr>\n",
       "    <tr>\n",
       "      <th>5</th>\n",
       "      <td>2</td>\n",
       "      <td>1</td>\n",
       "      <td>4</td>\n",
       "    </tr>\n",
       "    <tr>\n",
       "      <th>6</th>\n",
       "      <td>3</td>\n",
       "      <td>0</td>\n",
       "      <td>5</td>\n",
       "    </tr>\n",
       "    <tr>\n",
       "      <th>7</th>\n",
       "      <td>3</td>\n",
       "      <td>3</td>\n",
       "      <td>2</td>\n",
       "    </tr>\n",
       "    <tr>\n",
       "      <th>8</th>\n",
       "      <td>4</td>\n",
       "      <td>0</td>\n",
       "      <td>1</td>\n",
       "    </tr>\n",
       "    <tr>\n",
       "      <th>9</th>\n",
       "      <td>4</td>\n",
       "      <td>3</td>\n",
       "      <td>4</td>\n",
       "    </tr>\n",
       "    <tr>\n",
       "      <th>10</th>\n",
       "      <td>5</td>\n",
       "      <td>3</td>\n",
       "      <td>5</td>\n",
       "    </tr>\n",
       "    <tr>\n",
       "      <th>11</th>\n",
       "      <td>6</td>\n",
       "      <td>1</td>\n",
       "      <td>1</td>\n",
       "    </tr>\n",
       "    <tr>\n",
       "      <th>12</th>\n",
       "      <td>6</td>\n",
       "      <td>3</td>\n",
       "      <td>3</td>\n",
       "    </tr>\n",
       "  </tbody>\n",
       "</table>\n",
       "</div>"
      ],
      "text/plain": [
       "    userId  movieId  rating\n",
       "0        0        0       4\n",
       "1        0        1       5\n",
       "2        1        1       5\n",
       "3        1        2       3\n",
       "4        2        0       4\n",
       "5        2        1       4\n",
       "6        3        0       5\n",
       "7        3        3       2\n",
       "8        4        0       1\n",
       "9        4        3       4\n",
       "10       5        3       5\n",
       "11       6        1       1\n",
       "12       6        3       3"
      ]
     },
     "execution_count": 981,
     "metadata": {},
     "output_type": "execute_result"
    }
   ],
   "source": [
    "df"
   ]
  },
  {
   "cell_type": "code",
   "execution_count": 982,
   "metadata": {
    "ExecuteTime": {
     "end_time": "2019-01-29T06:30:26.566043Z",
     "start_time": "2019-01-29T06:30:26.562580Z"
    },
    "collapsed": true,
    "deletable": false,
    "editable": false,
    "nbgrader": {
     "checksum": "cb4c9b3ca5958683ecdee3371402ee4f",
     "grade": true,
     "grade_id": "cell-9f450c8da332e44a",
     "locked": true,
     "points": 1,
     "schema_version": 1,
     "solution": false
    }
   },
   "outputs": [],
   "source": [
    "assert(num_users == 7)"
   ]
  },
  {
   "cell_type": "code",
   "execution_count": 983,
   "metadata": {
    "ExecuteTime": {
     "end_time": "2019-01-29T06:30:26.572956Z",
     "start_time": "2019-01-29T06:30:26.570016Z"
    },
    "collapsed": true,
    "deletable": false,
    "editable": false,
    "nbgrader": {
     "checksum": "bb477356d1545f228d80f646789249a5",
     "grade": true,
     "grade_id": "cell-e2782b6d1a8b7e78",
     "locked": true,
     "points": 1,
     "schema_version": 1,
     "solution": false
    }
   },
   "outputs": [],
   "source": [
    "assert(num_movies == 4)"
   ]
  },
  {
   "cell_type": "code",
   "execution_count": 984,
   "metadata": {
    "ExecuteTime": {
     "end_time": "2019-01-29T06:30:26.580604Z",
     "start_time": "2019-01-29T06:30:26.574883Z"
    },
    "collapsed": true,
    "deletable": false,
    "editable": false,
    "nbgrader": {
     "checksum": "509058ab6b95b9e9f9e997fb92bc42ee",
     "grade": true,
     "grade_id": "cell-33d1f1e347947a47",
     "locked": true,
     "points": 1,
     "schema_version": 1,
     "solution": false
    }
   },
   "outputs": [],
   "source": [
    "np.testing.assert_equal(df[\"userId\"].values, np.array([0, 0, 1, 1, 2, 2, 3, 3, 4, 4, 5, 6, 6]))"
   ]
  },
  {
   "cell_type": "code",
   "execution_count": null,
   "metadata": {
    "collapsed": true,
    "deletable": false,
    "editable": false,
    "nbgrader": {
     "checksum": "fa3e28917ed5d2f1cc3f20d31be5f9e2",
     "grade": true,
     "grade_id": "cell-a17fa0331b6be94d",
     "locked": true,
     "points": 2,
     "schema_version": 1,
     "solution": false
    }
   },
   "outputs": [],
   "source": []
  },
  {
   "cell_type": "markdown",
   "metadata": {
    "deletable": false,
    "editable": false,
    "nbgrader": {
     "checksum": "b7493f49eec0c1e8e0cb10e3cb3082f0",
     "grade": false,
     "grade_id": "cell-72490bca925d342a",
     "locked": true,
     "schema_version": 1,
     "solution": false
    }
   },
   "source": [
    "## Initializing parameters"
   ]
  },
  {
   "cell_type": "code",
   "execution_count": 985,
   "metadata": {
    "ExecuteTime": {
     "end_time": "2019-01-29T06:30:26.592712Z",
     "start_time": "2019-01-29T06:30:26.582649Z"
    },
    "deletable": false,
    "editable": false,
    "nbgrader": {
     "checksum": "86ad5b49b1e7774aa007d3708b4e20b2",
     "grade": false,
     "grade_id": "cell-86cdf4ce1a4fb8f7",
     "locked": true,
     "schema_version": 1,
     "solution": false
    }
   },
   "outputs": [
    {
     "data": {
      "text/plain": [
       "array([[3.55790894, 4.69774849, 0.92361109, 1.58739544, 3.00593239],\n",
       "       [4.69774849, 7.44656163, 1.18135616, 2.64524868, 4.74559066],\n",
       "       [0.92361109, 1.18135616, 0.24548062, 0.34025121, 0.69616965],\n",
       "       [1.58739544, 2.64524868, 0.34025121, 1.61561   , 2.41361975],\n",
       "       [3.00593239, 4.74559066, 0.69616965, 2.41361975, 3.82505541],\n",
       "       [2.02000808, 3.29656257, 0.43174569, 2.065911  , 3.07264619],\n",
       "       [2.07691001, 3.02887291, 0.53270924, 1.02482544, 1.90251125]])"
      ]
     },
     "execution_count": 985,
     "metadata": {},
     "output_type": "execute_result"
    }
   ],
   "source": [
    "def create_embedings(n, K):\n",
    "    \"\"\" Create a numpy random matrix of shape n, K\n",
    "    \n",
    "    The random matrix should be initialized with uniform values in (0, 6/K)\n",
    "    Arguments:\n",
    "    \n",
    "    Inputs:\n",
    "    n: number of items/users\n",
    "    K: number of factors in the embeding \n",
    "    \n",
    "    Returns:\n",
    "    emb: numpy array of shape (n, num_factors)\n",
    "    \"\"\"\n",
    "    np.random.seed(3)\n",
    "    emb = 6*np.random.random((n, K)) / K\n",
    "    return emb\n",
    "\n",
    "# here is an example on how the prediction matrix would look like with 7 users and 5 movies\n",
    "np.dot(create_embedings(7,3), create_embedings(5,3).transpose())"
   ]
  },
  {
   "cell_type": "markdown",
   "metadata": {
    "deletable": false,
    "editable": false,
    "nbgrader": {
     "checksum": "77e65bbf9979c9e70ff4f51fd6f205cf",
     "grade": false,
     "grade_id": "cell-beef892ffe04476e",
     "locked": true,
     "schema_version": 1,
     "solution": false
    }
   },
   "source": [
    "## Encoding Y as a sparse matrix\n",
    "This code helps you encode a $Y$ as a sparse matrix from the dataframe. "
   ]
  },
  {
   "cell_type": "code",
   "execution_count": 986,
   "metadata": {
    "ExecuteTime": {
     "end_time": "2019-01-29T06:30:26.601421Z",
     "start_time": "2019-01-29T06:30:26.595052Z"
    },
    "collapsed": true,
    "deletable": false,
    "editable": false,
    "nbgrader": {
     "checksum": "ba9e920654a0367a71735df88ee64424",
     "grade": false,
     "grade_id": "cell-147015e836174cf4",
     "locked": true,
     "schema_version": 1,
     "solution": false
    }
   },
   "outputs": [],
   "source": [
    "from scipy import sparse\n",
    "def df2matrix(df, nrows, ncols, column_name=\"rating\"):\n",
    "    \"\"\" Returns a sparse matrix constructed from a dataframe\n",
    "    \n",
    "    This code assumes the df has columns: MovieID,UserID,Rating\n",
    "    \"\"\"\n",
    "    values = df[column_name].values\n",
    "    ind_movie = df['movieId'].values\n",
    "    ind_user = df['userId'].values\n",
    "    return sparse.csc_matrix((values,(ind_user, ind_movie)),shape=(nrows, ncols))"
   ]
  },
  {
   "cell_type": "code",
   "execution_count": 987,
   "metadata": {
    "ExecuteTime": {
     "end_time": "2019-01-29T06:30:26.620229Z",
     "start_time": "2019-01-29T06:30:26.603602Z"
    },
    "collapsed": true,
    "deletable": false,
    "editable": false,
    "nbgrader": {
     "checksum": "5ab1d3d656625a82019fe4f03ba236ca",
     "grade": false,
     "grade_id": "cell-18d0b3280aeb27b0",
     "locked": true,
     "schema_version": 1,
     "solution": false
    }
   },
   "outputs": [],
   "source": [
    "df = pd.read_csv(\"tiny_training2.csv\")\n",
    "df, num_users, num_movies = encode_data(df)\n",
    "Y = df2matrix(df, num_users, num_movies)"
   ]
  },
  {
   "cell_type": "code",
   "execution_count": 988,
   "metadata": {
    "ExecuteTime": {
     "end_time": "2019-01-29T06:30:26.636748Z",
     "start_time": "2019-01-29T06:30:26.624927Z"
    }
   },
   "outputs": [
    {
     "name": "stdout",
     "output_type": "stream",
     "text": [
      "  (0, 0)\t4\n",
      "  (2, 0)\t4\n",
      "  (3, 0)\t5\n",
      "  (4, 0)\t1\n",
      "  (0, 1)\t5\n",
      "  (1, 1)\t5\n",
      "  (2, 1)\t4\n",
      "  (6, 1)\t1\n",
      "  (1, 2)\t3\n",
      "  (3, 3)\t2\n",
      "  (4, 3)\t4\n",
      "  (5, 3)\t5\n",
      "  (6, 3)\t3\n"
     ]
    }
   ],
   "source": [
    "print(Y)"
   ]
  },
  {
   "cell_type": "markdown",
   "metadata": {},
   "source": [
    "## Predicting Ratings"
   ]
  },
  {
   "cell_type": "code",
   "execution_count": 989,
   "metadata": {
    "ExecuteTime": {
     "end_time": "2019-01-29T06:30:26.646464Z",
     "start_time": "2019-01-29T06:30:26.640962Z"
    },
    "collapsed": true,
    "deletable": false,
    "nbgrader": {
     "checksum": "7e22efa84b65372409c1521b74b711ef",
     "grade": false,
     "grade_id": "cell-c59f98d40119c2b1",
     "locked": false,
     "schema_version": 1,
     "solution": true
    }
   },
   "outputs": [],
   "source": [
    "def predict(df, emb_user, emb_movie):\n",
    "    \"\"\" This function computes df[\"prediction\"] without doing (U*V^T).\n",
    "    \n",
    "    Compute df[\"prediction\"] by using elementwise multiplication of the corresponding embeddings and then \n",
    "    sum to get the prediction u_i*v_j. This avoids creating the dense matrix U*V^T.\n",
    "    \"\"\"    \n",
    "    users = df['userId']\n",
    "    movies = df['movieId']\n",
    "    df['prediction'] = (emb_user[users] * emb_movie[movies]).sum(axis=1)\n",
    "    return df"
   ]
  },
  {
   "cell_type": "code",
   "execution_count": 990,
   "metadata": {
    "ExecuteTime": {
     "end_time": "2019-01-29T06:30:26.655934Z",
     "start_time": "2019-01-29T06:30:26.649064Z"
    },
    "collapsed": true,
    "deletable": false,
    "editable": false,
    "nbgrader": {
     "checksum": "6c9eb30ebd7a298e244c33ec47e53b31",
     "grade": true,
     "grade_id": "cell-7e9322939fc823ac",
     "locked": true,
     "points": 0,
     "schema_version": 1,
     "solution": false
    }
   },
   "outputs": [],
   "source": [
    "emb_user = np.ones((num_users, 3))\n",
    "emb_movie = np.ones((num_movies, 3))\n",
    "df = predict(df, emb_user, emb_movie)\n",
    "assert(df[\"prediction\"][12] == 3.0)"
   ]
  },
  {
   "cell_type": "code",
   "execution_count": 991,
   "metadata": {
    "ExecuteTime": {
     "end_time": "2019-01-29T06:30:26.666815Z",
     "start_time": "2019-01-29T06:30:26.659044Z"
    },
    "collapsed": true,
    "deletable": false,
    "editable": false,
    "nbgrader": {
     "checksum": "3e3d42353ec795a239cda9ed31ad26d7",
     "grade": true,
     "grade_id": "cell-54f0a52cb61a069b",
     "locked": true,
     "points": 1,
     "schema_version": 1,
     "solution": false
    }
   },
   "outputs": [],
   "source": [
    "emb_user = create_embedings(num_users, K=4)\n",
    "emb_movie = create_embedings(num_movies, K=4)\n",
    "df = predict(df, emb_user, emb_movie)\n",
    "pred_12 = df[\"prediction\"][12]\n",
    "assert(np.around(pred_12, decimals=2)== 2.05)"
   ]
  },
  {
   "cell_type": "markdown",
   "metadata": {
    "deletable": false,
    "editable": false,
    "nbgrader": {
     "checksum": "49c30ebd232f8c363d4551fe16fdb801",
     "grade": false,
     "grade_id": "cell-34b067092cd650f9",
     "locked": true,
     "schema_version": 1,
     "solution": false
    }
   },
   "source": [
    "## Calculating the cost function"
   ]
  },
  {
   "cell_type": "code",
   "execution_count": 992,
   "metadata": {
    "ExecuteTime": {
     "end_time": "2019-01-29T06:30:26.677078Z",
     "start_time": "2019-01-29T06:30:26.669397Z"
    },
    "collapsed": true,
    "deletable": false,
    "nbgrader": {
     "checksum": "a6f9e54edd126b7150b586f7fc574656",
     "grade": false,
     "grade_id": "cell-e4b1d37dbcb0c405",
     "locked": false,
     "schema_version": 1,
     "solution": true
    }
   },
   "outputs": [],
   "source": [
    "\n",
    "def cost(df, emb_user, emb_movie):\n",
    "    \"\"\" Computes mean square error\n",
    "    \n",
    "    First compute prediction using the predict function.\n",
    "    Prediction for user i and movie j is emb_user[i]*emb_movie[j]\n",
    "    \n",
    "    Arguments:\n",
    "      df: dataframe with all data or a subset of the data\n",
    "      emb_user: embedings for users\n",
    "      emb_movie: embedings for movies\n",
    "      \n",
    "    Returns:\n",
    "      error(float): this is the MSE\n",
    "    \"\"\"\n",
    "    prediction = predict(df, emb_user, emb_movie)['prediction']\n",
    "    actual = df['rating']\n",
    "    error = np.mean(np.power(actual-prediction,2))\n",
    "    return error"
   ]
  },
  {
   "cell_type": "code",
   "execution_count": 993,
   "metadata": {
    "ExecuteTime": {
     "end_time": "2019-01-29T06:30:26.684905Z",
     "start_time": "2019-01-29T06:30:26.678910Z"
    },
    "collapsed": true,
    "deletable": false,
    "editable": false,
    "nbgrader": {
     "checksum": "e27109a5852d29a4db2fcd9518f547ee",
     "grade": true,
     "grade_id": "cell-e7b5689049c2f45a",
     "locked": true,
     "points": 1,
     "schema_version": 1,
     "solution": false
    }
   },
   "outputs": [],
   "source": [
    "emb_user = np.ones((num_users, 3))\n",
    "emb_movie = np.ones((num_movies, 3))\n",
    "error = cost(df, emb_user, emb_movie)\n",
    "assert(np.around(error, decimals=2) == 2.23)"
   ]
  },
  {
   "cell_type": "code",
   "execution_count": 994,
   "metadata": {
    "ExecuteTime": {
     "end_time": "2019-01-29T06:30:26.693178Z",
     "start_time": "2019-01-29T06:30:26.687743Z"
    },
    "collapsed": true,
    "deletable": false,
    "editable": false,
    "nbgrader": {
     "checksum": "b010d5b213e9547b4122fa419c2429e3",
     "grade": true,
     "grade_id": "cell-3c0b25b85e65f88b",
     "locked": true,
     "points": 1,
     "schema_version": 1,
     "solution": false
    }
   },
   "outputs": [],
   "source": [
    "emb_user = create_embedings(num_users, K=4)\n",
    "emb_movie = create_embedings(num_movies, K=4)\n",
    "error = cost(df, emb_user, emb_movie)\n",
    "assert(np.around(error, decimals=2) == 4.36)"
   ]
  },
  {
   "cell_type": "markdown",
   "metadata": {
    "deletable": false,
    "editable": false,
    "nbgrader": {
     "checksum": "d195d7d2bd356f3f7f11cd16bb40acea",
     "grade": false,
     "grade_id": "cell-eecb153a5272d90a",
     "locked": true,
     "schema_version": 1,
     "solution": false
    }
   },
   "source": [
    "## Calculating gradient"
   ]
  },
  {
   "cell_type": "code",
   "execution_count": 995,
   "metadata": {
    "ExecuteTime": {
     "end_time": "2019-01-29T06:30:26.700575Z",
     "start_time": "2019-01-29T06:30:26.695113Z"
    },
    "collapsed": true,
    "deletable": false,
    "editable": false,
    "nbgrader": {
     "checksum": "3cb7a507904ee5e83135fb967d762da9",
     "grade": false,
     "grade_id": "cell-745f5e8d9b341426",
     "locked": true,
     "schema_version": 1,
     "solution": false
    }
   },
   "outputs": [],
   "source": [
    "def finite_difference(df, emb_user, emb_movie, ind_u=None, ind_m=None, k=None):\n",
    "    \"\"\" Computes finite difference on MSE(U, V).\n",
    "    \n",
    "    This function is used for testing the gradient function. \n",
    "    \"\"\"\n",
    "    e = 0.000000001\n",
    "    c1 = cost(df, emb_user, emb_movie)\n",
    "    K = emb_user.shape[1]\n",
    "    x = np.zeros_like(emb_user)\n",
    "    y = np.zeros_like(emb_movie)\n",
    "    if ind_u is not None:\n",
    "        x[ind_u][k] = e\n",
    "    else:\n",
    "        y[ind_m][k] = e\n",
    "    c2 = cost(df, emb_user + x, emb_movie + y)\n",
    "    return (c2 - c1)/e"
   ]
  },
  {
   "cell_type": "code",
   "execution_count": 996,
   "metadata": {
    "ExecuteTime": {
     "end_time": "2019-01-29T06:30:26.711216Z",
     "start_time": "2019-01-29T06:30:26.702882Z"
    },
    "collapsed": true,
    "deletable": false,
    "nbgrader": {
     "checksum": "04eabe7cce41767fb506f777387a99c6",
     "grade": false,
     "grade_id": "cell-6da7b90b116a6712",
     "locked": false,
     "schema_version": 1,
     "solution": true
    }
   },
   "outputs": [],
   "source": [
    "def gradient(df, emb_user, emb_movie):\n",
    "    \"\"\" Computes the gradient.\n",
    "    \n",
    "    Hint: First compute df[\"prediction\"]. Then use df2matrix\n",
    "    to get a sparse matrix Y and Y_hat.\n",
    "    \n",
    "    Arguments:\n",
    "      df: dataframe with all data or a subset of the data\n",
    "      Y: sparse representation of df\n",
    "      emb_user: embedings for users\n",
    "      emb_movie: embedings for movies\n",
    "      \n",
    "    Returns:\n",
    "      d_emb_user\n",
    "      d_emb_movie\n",
    "    \"\"\"\n",
    "    users = df['userId']\n",
    "    movies = df['movieId']\n",
    "    df['prediction'] = predict(df, emb_user, emb_movie)['prediction']\n",
    "    Y = df2matrix(df, emb_user.shape[0], emb_movie.shape[0])\n",
    "    Y_hat = df2matrix(df, emb_user.shape[0], emb_movie.shape[0], column_name=\"prediction\")\n",
    "    N = df.shape[0]\n",
    "    nambla = (Y.todense()-Y_hat)\n",
    "    d_emb_user = (-2/N) * np.dot(nambla,emb_movie)\n",
    "    d_emb_movie = (-2/N) * np.dot(nambla.T,emb_user)\n",
    "\n",
    "    return d_emb_user, d_emb_movie"
   ]
  },
  {
   "cell_type": "code",
   "execution_count": 997,
   "metadata": {
    "ExecuteTime": {
     "end_time": "2019-01-29T06:30:26.721563Z",
     "start_time": "2019-01-29T06:30:26.713079Z"
    },
    "collapsed": true
   },
   "outputs": [],
   "source": [
    "K = 3\n",
    "emb_user = create_embedings(num_users, K)\n",
    "emb_movie = create_embedings(num_movies, K)\n",
    "grad_user, grad_movie = gradient(df, emb_user, emb_movie)"
   ]
  },
  {
   "cell_type": "code",
   "execution_count": 998,
   "metadata": {
    "ExecuteTime": {
     "end_time": "2019-01-29T06:30:26.739506Z",
     "start_time": "2019-01-29T06:30:26.723548Z"
    },
    "collapsed": true,
    "deletable": false,
    "editable": false,
    "nbgrader": {
     "checksum": "f03717bfb40d791bdbae0d4d68975429",
     "grade": true,
     "grade_id": "cell-a58a216f11e292b4",
     "locked": true,
     "points": 2,
     "schema_version": 1,
     "solution": false
    }
   },
   "outputs": [],
   "source": [
    "user=1\n",
    "approx = np.array([finite_difference(df, emb_user, emb_movie, ind_u=user, k=i) for i in range(K)])\n",
    "assert(np.all(np.abs(grad_user[user] - approx) < 0.0001))"
   ]
  },
  {
   "cell_type": "code",
   "execution_count": 999,
   "metadata": {
    "ExecuteTime": {
     "end_time": "2019-01-29T06:30:26.769769Z",
     "start_time": "2019-01-29T06:30:26.747078Z"
    },
    "collapsed": true,
    "deletable": false,
    "editable": false,
    "nbgrader": {
     "checksum": "4e6877a8f9d3b394fe84b235b1e4b25b",
     "grade": true,
     "grade_id": "cell-4d60664272f913f0",
     "locked": true,
     "points": 2,
     "schema_version": 1,
     "solution": false
    }
   },
   "outputs": [],
   "source": [
    "movie=1\n",
    "approx = np.array([finite_difference(df, emb_user, emb_movie, ind_m=movie, k=i) for i in range(K)])\n",
    "assert(np.all(np.abs(grad_movie[movie] - approx) < 0.0001))"
   ]
  },
  {
   "cell_type": "markdown",
   "metadata": {
    "deletable": false,
    "editable": false,
    "nbgrader": {
     "checksum": "dc8cd2f251b745f930ad1f17ce2ad040",
     "grade": false,
     "grade_id": "cell-75a83a0a289d180c",
     "locked": true,
     "schema_version": 1,
     "solution": false
    }
   },
   "source": [
    "## Using gradient descent with momentum"
   ]
  },
  {
   "cell_type": "code",
   "execution_count": 1000,
   "metadata": {
    "ExecuteTime": {
     "end_time": "2019-01-29T06:30:26.782170Z",
     "start_time": "2019-01-29T06:30:26.772612Z"
    },
    "collapsed": true,
    "deletable": false,
    "nbgrader": {
     "checksum": "b7777a7ac0cc550d5d2626e05c036ce3",
     "grade": false,
     "grade_id": "cell-ddc48938c215e395",
     "locked": false,
     "schema_version": 1,
     "solution": true
    }
   },
   "outputs": [],
   "source": [
    "# you can use a for loop to iterate through gradient descent\n",
    "def gradient_descent(df, emb_user, emb_movie, iterations=100, learning_rate=0.01, df_val=None):\n",
    "    \"\"\" Computes gradient descent with momentum (0.9) for a number of iterations.\n",
    "    \n",
    "    Prints training cost and validation cost (if df_val is not None) every 50 iterations.\n",
    "    \n",
    "    Returns:\n",
    "    emb_user: the trained user embedding\n",
    "    emb_movie: the trained movie embedding\n",
    "    \"\"\"\n",
    "    momentum = 0.9\n",
    "    update_user, update_movie = gradient(df, emb_user, emb_movie)\n",
    "    \n",
    "    for iteration in range(iterations):\n",
    "        #calculate gradients\n",
    "        #updates\n",
    "        if iteration > 0:\n",
    "            du, dm = gradient(df, emb_user, emb_movie)\n",
    "            update_user =  update_user * (momentum) + du * (1 - momentum)\n",
    "            update_movie = update_movie * (momentum) + dm * (1 - momentum)\n",
    "        \n",
    "        #parameter changes\n",
    "        emb_user -= learning_rate * update_user\n",
    "        emb_movie -= learning_rate *update_movie\n",
    "        if iteration%50 == 49:\n",
    "            print('Training Error Rate: '+str(cost(df, emb_user  , emb_movie)))\n",
    "            if df_val is not None:\n",
    "                print('Validation Error Rate: '+str(cost(df_val, emb_user, emb_movie)))\n",
    "    return emb_user, emb_movie"
   ]
  },
  {
   "cell_type": "code",
   "execution_count": 1001,
   "metadata": {
    "ExecuteTime": {
     "end_time": "2019-01-29T06:30:27.052192Z",
     "start_time": "2019-01-29T06:30:26.784192Z"
    }
   },
   "outputs": [
    {
     "name": "stdout",
     "output_type": "stream",
     "text": [
      "Training Error Rate: 1.701364306188372\n",
      "Training Error Rate: 0.9748705172056423\n",
      "Training Error Rate: 0.6991455656925724\n",
      "Training Error Rate: 0.5265621094145297\n"
     ]
    }
   ],
   "source": [
    "emb_user = create_embedings(num_users, 3)\n",
    "emb_movie = create_embedings(num_movies, 3)\n",
    "emb_user, emb_movie = gradient_descent(df, emb_user, emb_movie, iterations=200, learning_rate=0.01)"
   ]
  },
  {
   "cell_type": "code",
   "execution_count": 1002,
   "metadata": {
    "ExecuteTime": {
     "end_time": "2019-01-29T06:30:27.057845Z",
     "start_time": "2019-01-29T06:30:27.054092Z"
    },
    "collapsed": true,
    "deletable": false,
    "editable": false,
    "nbgrader": {
     "checksum": "427c2fa6fb1f89a88ae69589e9296744",
     "grade": true,
     "grade_id": "cell-d4f1184eccf7ebe0",
     "locked": true,
     "points": 2,
     "schema_version": 1,
     "solution": false
    }
   },
   "outputs": [],
   "source": [
    "train_mse = cost(df, emb_user, emb_movie)\n",
    "assert(np.around(train_mse, decimals=2) == 0.53)"
   ]
  },
  {
   "cell_type": "markdown",
   "metadata": {
    "deletable": false,
    "nbgrader": {
     "checksum": "d63781170ae7aac4f48c6d44afda64e7",
     "grade": false,
     "grade_id": "cell-7b4ece4b4a308a5f",
     "locked": false,
     "schema_version": 1,
     "solution": false
    }
   },
   "source": [
    "## Predicting on new data"
   ]
  },
  {
   "cell_type": "code",
   "execution_count": 1299,
   "metadata": {
    "ExecuteTime": {
     "end_time": "2019-01-29T21:03:19.124513Z",
     "start_time": "2019-01-29T21:03:19.116341Z"
    },
    "collapsed": true
   },
   "outputs": [],
   "source": [
    "# here is a handy function from fast.ai\n",
    "def new_proc_col(col):\n",
    "    \"\"\"Encodes a pandas column with continous ids. \n",
    "    \"\"\"\n",
    "    uniq = col.unique()\n",
    "    name2idx = {o:i for i,o in enumerate(uniq)}\n",
    "    return name2idx, np.array([name2idx[x] for x in col]), len(uniq)"
   ]
  },
  {
   "cell_type": "code",
   "execution_count": 1333,
   "metadata": {
    "ExecuteTime": {
     "end_time": "2019-01-29T22:25:28.429953Z",
     "start_time": "2019-01-29T22:25:28.420825Z"
    },
    "collapsed": true,
    "deletable": false,
    "nbgrader": {
     "checksum": "89b34542423f352f952b8e049875b7ec",
     "grade": false,
     "grade_id": "cell-6535ac40f1132e10",
     "locked": false,
     "schema_version": 1,
     "solution": true
    }
   },
   "outputs": [],
   "source": [
    "\n",
    "def encode_new_data(df_val, df_train):\n",
    "    \"\"\" Encodes df_val with the same encoding as df_train.\n",
    "    Returns:\n",
    "    df_val: dataframe with the same encoding as df_train\n",
    "    \"\"\"\n",
    "    # make sure have right indeces\n",
    "    df_val.set_index(['userId', 'movieId'])\n",
    "    df_train.set_index(['userId', 'movieId'])\n",
    "    # validations which are in training\n",
    "    distinct_users = df_train['userId'].unique()\n",
    "    distinct_movies = df_train['movieId'].unique()\n",
    "    index = df_val.userId.isin(distinct_users) & df_val.movieId.isin(distinct_movies) \n",
    "    # trainings that are in validation\n",
    "    distinct_users2 = df_val['userId'].unique()\n",
    "    distinct_movies2 = df_val['movieId'].unique()\n",
    "    df_val    = df_val[index]\n",
    "    length = len(df_val)\n",
    "    new_df = pd.concat([df_train,df_val])\n",
    "    encoded, num_users, num_movies = encode_data(new_df)\n",
    "    new_val = encoded.iloc[-length:]\n",
    "    return new_val"
   ]
  },
  {
   "cell_type": "code",
   "execution_count": 1334,
   "metadata": {
    "ExecuteTime": {
     "end_time": "2019-01-29T22:25:29.159701Z",
     "start_time": "2019-01-29T22:25:29.141390Z"
    },
    "collapsed": true
   },
   "outputs": [],
   "source": [
    "df_t = pd.read_csv(\"tiny_training2.csv\")\n",
    "df_v = pd.read_csv(\"tiny_val2.csv\")\n",
    "df_v = encode_new_data(df_v, df_t)\n"
   ]
  },
  {
   "cell_type": "code",
   "execution_count": 1335,
   "metadata": {
    "ExecuteTime": {
     "end_time": "2019-01-29T22:25:29.705486Z",
     "start_time": "2019-01-29T22:25:29.690950Z"
    },
    "collapsed": true,
    "deletable": false,
    "editable": false,
    "nbgrader": {
     "checksum": "c3738c156a5eea374d2f22cdd05d6090",
     "grade": true,
     "grade_id": "cell-7f72f7f728540e68",
     "locked": true,
     "points": 1,
     "schema_version": 1,
     "solution": false
    }
   },
   "outputs": [],
   "source": [
    "assert(len(df_v.userId.unique())==2)"
   ]
  },
  {
   "cell_type": "code",
   "execution_count": 1336,
   "metadata": {
    "ExecuteTime": {
     "end_time": "2019-01-29T22:25:30.230536Z",
     "start_time": "2019-01-29T22:25:30.221661Z"
    },
    "collapsed": true,
    "deletable": false,
    "editable": false,
    "nbgrader": {
     "checksum": "2e35bcd786010b0c84c3ce4218505a33",
     "grade": true,
     "grade_id": "cell-1b3ccc161bd551e7",
     "locked": true,
     "points": 1,
     "schema_version": 1,
     "solution": false
    }
   },
   "outputs": [],
   "source": [
    "assert(len(df_v) == 2)"
   ]
  },
  {
   "cell_type": "markdown",
   "metadata": {
    "deletable": false,
    "nbgrader": {
     "checksum": "8c745aa81080e9eb97ef9f23953fcabf",
     "grade": false,
     "grade_id": "cell-0033372e0e9accd9",
     "locked": true,
     "schema_version": 1,
     "solution": false
    }
   },
   "source": [
    "## Putting it all together\n"
   ]
  },
  {
   "cell_type": "code",
   "execution_count": 1337,
   "metadata": {
    "ExecuteTime": {
     "end_time": "2019-01-29T22:25:31.431803Z",
     "start_time": "2019-01-29T22:25:31.169386Z"
    }
   },
   "outputs": [
    {
     "name": "stdout",
     "output_type": "stream",
     "text": [
      "20386 19591\n"
     ]
    }
   ],
   "source": [
    "# Don't change this path use a simlink if you have the data somewhere else\n",
    "path = \"ml-latest-small/\"\n",
    "data = pd.read_csv(path + \"ratings.csv\")\n",
    "# sorting by timestamp take as validation data the most recent data doesn't work so let's just take 20%\n",
    "# at random\n",
    "np.random.seed(3)\n",
    "msk = np.random.rand(len(data)) < 0.8\n",
    "train = data[msk].copy()\n",
    "val = data[~msk].copy()\n",
    "df_train, num_users, num_movies = encode_data(train.copy())\n",
    "df_val = encode_new_data(val.copy(), train.copy())\n",
    "\n",
    "print(len(val), len(df_val))"
   ]
  },
  {
   "cell_type": "code",
   "execution_count": 1338,
   "metadata": {
    "ExecuteTime": {
     "end_time": "2019-01-29T22:26:12.034534Z",
     "start_time": "2019-01-29T22:25:31.835360Z"
    }
   },
   "outputs": [
    {
     "name": "stdout",
     "output_type": "stream",
     "text": [
      "Training Error Rate: 9.48094555948595\n",
      "Validation Error Rate: 9.60843885425874\n",
      "Training Error Rate: 6.6913902077377765\n",
      "Validation Error Rate: 6.824174774852403\n",
      "Training Error Rate: 4.803840866998358\n",
      "Validation Error Rate: 4.9284672300475245\n",
      "Training Error Rate: 3.7567143651597688\n",
      "Validation Error Rate: 3.868546473763612\n"
     ]
    }
   ],
   "source": [
    "K = 50\n",
    "emb_user = create_embedings(num_users, K)\n",
    "emb_movie = create_embedings(num_movies, K)\n",
    "emb_user, emb_movie = gradient_descent(df_train, emb_user, emb_movie, iterations=200, learning_rate=1, df_val=df_val)"
   ]
  },
  {
   "cell_type": "code",
   "execution_count": 1339,
   "metadata": {
    "ExecuteTime": {
     "end_time": "2019-01-29T22:26:12.080292Z",
     "start_time": "2019-01-29T22:26:12.037808Z"
    }
   },
   "outputs": [
    {
     "name": "stdout",
     "output_type": "stream",
     "text": [
      "3.7567143651597688 3.868546473763612\n"
     ]
    }
   ],
   "source": [
    "train_mse = cost(df_train, emb_user, emb_movie)\n",
    "val_mse = cost(df_val, emb_user, emb_movie)\n",
    "print(train_mse, val_mse)"
   ]
  },
  {
   "cell_type": "markdown",
   "metadata": {},
   "source": [
    "Please check that when you run gradient descent for 2000 iterations. `val_mse` should be around 0.855"
   ]
  },
  {
   "cell_type": "code",
   "execution_count": 1340,
   "metadata": {
    "ExecuteTime": {
     "end_time": "2019-01-29T22:26:12.178361Z",
     "start_time": "2019-01-29T22:26:12.083096Z"
    },
    "collapsed": true,
    "deletable": false,
    "editable": false,
    "nbgrader": {
     "checksum": "7bcf41243c3e6ffd74e17660e23ef4e4",
     "grade": true,
     "grade_id": "cell-edcc7b88956c5e27",
     "locked": true,
     "points": 0,
     "schema_version": 1,
     "solution": false
    }
   },
   "outputs": [],
   "source": [
    "train_mse = cost(df_train, emb_user, emb_movie)\n",
    "assert(np.around(train_mse, decimals=1) == 3.8)"
   ]
  },
  {
   "cell_type": "code",
   "execution_count": 1341,
   "metadata": {
    "ExecuteTime": {
     "end_time": "2019-01-29T22:45:56.450339Z",
     "start_time": "2019-01-29T22:26:12.183108Z"
    },
    "deletable": false,
    "nbgrader": {
     "checksum": "021e44a09d8ff215dacf6e7581b38219",
     "grade": true,
     "grade_id": "cell-3638271e7060b741",
     "locked": false,
     "points": 2,
     "schema_version": 1,
     "solution": true
    }
   },
   "outputs": [
    {
     "name": "stdout",
     "output_type": "stream",
     "text": [
      "20386 19591\n",
      "Training Error Rate: 9.48094555948595\n",
      "Validation Error Rate: 9.60843885425874\n",
      "Training Error Rate: 6.6913902077377765\n",
      "Validation Error Rate: 6.824174774852403\n",
      "Training Error Rate: 4.803840866998358\n",
      "Validation Error Rate: 4.9284672300475245\n",
      "Training Error Rate: 3.7567143651597688\n",
      "Validation Error Rate: 3.868546473763612\n",
      "Training Error Rate: 3.0962612272822643\n",
      "Validation Error Rate: 3.1939773867373824\n",
      "Training Error Rate: 2.640211866512512\n",
      "Validation Error Rate: 2.727822226645782\n",
      "Training Error Rate: 2.3096501987094094\n",
      "Validation Error Rate: 2.3910847231805987\n",
      "Training Error Rate: 2.061108409880841\n",
      "Validation Error Rate: 2.138973908934579\n",
      "Training Error Rate: 1.8684796472379896\n",
      "Validation Error Rate: 1.9444189915928134\n",
      "Training Error Rate: 1.7153418975229036\n",
      "Validation Error Rate: 1.7904100562562837\n",
      "Training Error Rate: 1.5909703181142627\n",
      "Validation Error Rate: 1.665863604254957\n",
      "Training Error Rate: 1.488121595983667\n",
      "Validation Error Rate: 1.5633109911440302\n",
      "Training Error Rate: 1.4017553492610961\n",
      "Validation Error Rate: 1.477566351199005\n",
      "Training Error Rate: 1.328270555231664\n",
      "Validation Error Rate: 1.4049328219185762\n",
      "Training Error Rate: 1.2650338859285164\n",
      "Validation Error Rate: 1.342713010973497\n",
      "Training Error Rate: 1.2100791143061034\n",
      "Validation Error Rate: 1.2888973501489023\n",
      "Training Error Rate: 1.1619102347612402\n",
      "Validation Error Rate: 1.2419601676209926\n",
      "Training Error Rate: 1.119369430392052\n",
      "Validation Error Rate: 1.2007230857814284\n",
      "Training Error Rate: 1.081546664805291\n",
      "Validation Error Rate: 1.1642616285383733\n",
      "Training Error Rate: 1.0477165919219567\n",
      "Validation Error Rate: 1.1318401745276514\n",
      "Training Error Rate: 1.0172937437638307\n",
      "Validation Error Rate: 1.1028658572419272\n",
      "Training Error Rate: 0.9898001638259692\n",
      "Validation Error Rate: 1.0768553456810805\n",
      "Training Error Rate: 0.9648416556429685\n",
      "Validation Error Rate: 1.0534105227667128\n",
      "Training Error Rate: 0.9420900903197993\n",
      "Validation Error Rate: 1.0322004066811261\n",
      "Training Error Rate: 0.921270041058684\n",
      "Validation Error Rate: 1.0129475197282887\n",
      "Training Error Rate: 0.9021485537447625\n",
      "Validation Error Rate: 0.9954174730974901\n",
      "Training Error Rate: 0.8845272227089346\n",
      "Validation Error Rate: 0.9794109105044584\n",
      "Training Error Rate: 0.8682359836790973\n",
      "Validation Error Rate: 0.964757205779496\n",
      "Training Error Rate: 0.8531282020249515\n",
      "Validation Error Rate: 0.9513094813630503\n",
      "Training Error Rate: 0.8390767495283474\n",
      "Validation Error Rate: 0.9389406334547218\n",
      "Training Error Rate: 0.825970843786181\n",
      "Validation Error Rate: 0.927540132769367\n",
      "Training Error Rate: 0.8137134819137182\n",
      "Validation Error Rate: 0.9170114289300679\n",
      "Training Error Rate: 0.8022193417029886\n",
      "Validation Error Rate: 0.9072698290252642\n",
      "Training Error Rate: 0.7914130536534465\n",
      "Validation Error Rate: 0.8982407518155507\n",
      "Training Error Rate: 0.7812277696192441\n",
      "Validation Error Rate: 0.8898582818970584\n",
      "Training Error Rate: 0.7716039704668054\n",
      "Validation Error Rate: 0.8820639651387754\n",
      "Training Error Rate: 0.7624884676765753\n",
      "Validation Error Rate: 0.8748057995208358\n",
      "Training Error Rate: 0.7538335633567349\n",
      "Validation Error Rate: 0.8680373852385673\n",
      "Training Error Rate: 0.7455963404485301\n",
      "Validation Error Rate: 0.8617172054042731\n",
      "Training Error Rate: 0.7377380605563745\n",
      "Validation Error Rate: 0.8558080144508536\n"
     ]
    }
   ],
   "source": [
    "path = \"ml-latest-small/\"\n",
    "data = pd.read_csv(path + \"ratings.csv\")\n",
    "sorting by timestamp take as validation data the most recent data doesn't work so let's just take 20%\n",
    "at random\n",
    "np.random.seed(3)\n",
    "msk = np.random.rand(len(data)) < 0.8\n",
    "train = data[msk].copy()\n",
    "val = data[~msk].copy()\n",
    "df_train, num_users, num_movies = encode_data(train.copy())\n",
    "df_val = encode_new_data(val.copy(), train.copy())\n",
    "print(len(val), len(df_val))\n",
    "K = 50\n",
    "emb_user = create_embedings(num_users, K)\n",
    "emb_movie = create_embedings(num_movies, K)\n",
    "emb_user, emb_movie = gradient_descent(df_train, emb_user, emb_movie, iterations=2000, learning_rate=1, df_val=df_val)"
   ]
  },
  {
   "cell_type": "code",
   "execution_count": 1342,
   "metadata": {
    "ExecuteTime": {
     "end_time": "2019-01-29T22:45:56.546699Z",
     "start_time": "2019-01-29T22:45:56.453224Z"
    }
   },
   "outputs": [
    {
     "name": "stdout",
     "output_type": "stream",
     "text": [
      "0.7377380605563745 0.8558080144508536\n"
     ]
    }
   ],
   "source": [
    "train_mse = cost(df_train, emb_user, emb_movie)\n",
    "val_mse = cost(df_val, emb_user, emb_movie)\n",
    "print(train_mse, val_mse)"
   ]
  },
  {
   "cell_type": "code",
   "execution_count": null,
   "metadata": {
    "collapsed": true
   },
   "outputs": [],
   "source": []
  }
 ],
 "metadata": {
  "celltoolbar": "Edit Metadata",
  "kernelspec": {
   "display_name": "Python 3",
   "language": "python",
   "name": "python3"
  },
  "language_info": {
   "codemirror_mode": {
    "name": "ipython",
    "version": 3
   },
   "file_extension": ".py",
   "mimetype": "text/x-python",
   "name": "python",
   "nbconvert_exporter": "python",
   "pygments_lexer": "ipython3",
   "version": "3.6.8"
  },
  "latex_envs": {
   "bibliofile": "biblio.bib",
   "cite_by": "apalike",
   "current_citInitial": 1,
   "eqLabelWithNumbers": true,
   "eqNumInitial": 0
  },
  "toc": {
   "nav_menu": {},
   "number_sections": true,
   "sideBar": true,
   "skip_h1_title": false,
   "toc_cell": false,
   "toc_position": {},
   "toc_section_display": "block",
   "toc_window_display": false
  }
 },
 "nbformat": 4,
 "nbformat_minor": 2
}
