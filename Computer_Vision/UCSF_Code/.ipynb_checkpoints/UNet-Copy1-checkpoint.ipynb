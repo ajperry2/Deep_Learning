{
 "cells": [
  {
   "cell_type": "markdown",
   "metadata": {},
   "source": [
    "# U Net\n",
    "\n",
    "Here I am implementing the U Net architecture. I have made it so that the number of nonconvolutional layers per downsample as well as the number of downsamples is adjustable. \n",
    "\n",
    "\n",
    "This model was used in research for UCSF and with a slight modification of it we got a validation dice score of .83 on a human prostate.\n"
   ]
  },
  {
   "cell_type": "code",
   "execution_count": 25,
   "metadata": {
    "ExecuteTime": {
     "end_time": "2019-06-12T23:11:43.692495Z",
     "start_time": "2019-06-12T23:11:43.687087Z"
    }
   },
   "outputs": [],
   "source": [
    "\n",
    "import os\n",
    "import glob\n",
    "from PIL import Image\n",
    "import numpy as np\n",
    "import random\n",
    "import matplotlib.pyplot as plt\n",
    "import math\n",
    "from tqdm import tqdm, tqdm_notebook\n",
    "import PIL\n",
    "from torch.utils.data import Dataset\n",
    "import torch.nn as nn\n",
    "import torch\n",
    "import torch.utils.data\n",
    "import torchvision.datasets as datasets\n",
    "import torch.nn.functional as F\n",
    "import torchvision.transforms as transforms\n",
    "import torch.optim as optim\n",
    "from torch.autograd import Variable, Function\n",
    "from torch.nn import init\n",
    "from torchvision.utils import make_grid\n",
    "from pathlib import Path\n",
    "from sklearn.model_selection import train_test_split\n",
    "from botorch.fit import fit_gpytorch_model\n",
    "from botorch.models import SingleTaskGP,FixedNoiseGP\n",
    "from gpytorch.mlls import ExactMarginalLogLikelihood\n"
   ]
  },
  {
   "cell_type": "code",
   "execution_count": 76,
   "metadata": {
    "ExecuteTime": {
     "end_time": "2019-06-12T23:29:11.887069Z",
     "start_time": "2019-06-12T23:29:11.880051Z"
    }
   },
   "outputs": [],
   "source": [
    "convPerDown = 2\n",
    "starting_channels =16\n",
    "in_channel = 3\n",
    "batch_size=1\n",
    "n_classes = 1\n",
    "n_layer = 4\n",
    "\n",
    "epochs=2000\n",
    "\n",
    "lr = 0.0005\n",
    "leak=0.05\n",
    "dropout = 0.005\n",
    "gpu=True\n",
    "\n",
    "image_size = 256\n",
    "train_samples =2000\n",
    "test_samples = 500"
   ]
  },
  {
   "cell_type": "code",
   "execution_count": 77,
   "metadata": {
    "ExecuteTime": {
     "end_time": "2019-06-12T23:29:12.393687Z",
     "start_time": "2019-06-12T23:29:12.387226Z"
    }
   },
   "outputs": [
    {
     "data": {
      "text/plain": [
       "0"
      ]
     },
     "execution_count": 77,
     "metadata": {},
     "output_type": "execute_result"
    }
   ],
   "source": [
    "torch.cuda.device_count()"
   ]
  },
  {
   "cell_type": "markdown",
   "metadata": {},
   "source": [
    "## LOSS"
   ]
  },
  {
   "cell_type": "code",
   "execution_count": null,
   "metadata": {
    "ExecuteTime": {
     "end_time": "2019-05-30T06:18:43.590910Z",
     "start_time": "2019-05-30T06:18:43.586991Z"
    }
   },
   "outputs": [],
   "source": []
  },
  {
   "cell_type": "markdown",
   "metadata": {},
   "source": [
    "## Data Files"
   ]
  },
  {
   "cell_type": "code",
   "execution_count": 78,
   "metadata": {
    "ExecuteTime": {
     "end_time": "2019-06-12T23:29:13.266155Z",
     "start_time": "2019-06-12T23:29:13.263401Z"
    }
   },
   "outputs": [],
   "source": [
    "img_paths = Path('/Users/alan/Desktop/new_x/')\n",
    "lab_paths = Path('/Users/alan/Desktop/new_y/')\n"
   ]
  },
  {
   "cell_type": "code",
   "execution_count": 79,
   "metadata": {
    "ExecuteTime": {
     "end_time": "2019-06-12T23:29:13.540743Z",
     "start_time": "2019-06-12T23:29:13.536334Z"
    }
   },
   "outputs": [],
   "source": [
    "img_paths=list(img_paths.iterdir())\n",
    "lab_paths=list(lab_paths.iterdir())"
   ]
  },
  {
   "cell_type": "code",
   "execution_count": 80,
   "metadata": {
    "ExecuteTime": {
     "end_time": "2019-06-12T23:29:14.033199Z",
     "start_time": "2019-06-12T23:29:14.024950Z"
    }
   },
   "outputs": [
    {
     "data": {
      "text/plain": [
       "{PosixPath('/Users/alan/Desktop/new_x/1.png'),\n",
       " PosixPath('/Users/alan/Desktop/new_x/2.png'),\n",
       " PosixPath('/Users/alan/Desktop/new_x/3.png'),\n",
       " PosixPath('/Users/alan/Desktop/new_x/4.png'),\n",
       " PosixPath('/Users/alan/Desktop/new_x/5.png')}"
      ]
     },
     "execution_count": 80,
     "metadata": {},
     "output_type": "execute_result"
    }
   ],
   "source": [
    "set(img_paths)-set(lab_paths)"
   ]
  },
  {
   "cell_type": "code",
   "execution_count": 81,
   "metadata": {
    "ExecuteTime": {
     "end_time": "2019-06-12T23:29:14.117934Z",
     "start_time": "2019-06-12T23:29:14.112435Z"
    }
   },
   "outputs": [],
   "source": [
    "train_img,test_img,train_lab,test_lab = train_test_split(img_paths,lab_paths)"
   ]
  },
  {
   "cell_type": "markdown",
   "metadata": {},
   "source": [
    "## Augmentation"
   ]
  },
  {
   "cell_type": "code",
   "execution_count": 82,
   "metadata": {
    "ExecuteTime": {
     "end_time": "2019-06-12T23:29:14.293819Z",
     "start_time": "2019-06-12T23:29:14.287786Z"
    }
   },
   "outputs": [],
   "source": [
    "\n",
    "transforms_pytorch = transforms.Compose([\n",
    "    transforms.CenterCrop(400),\n",
    "    transforms.Resize((300,300)),    \n",
    "    transforms.RandomCrop(256),\n",
    "    transforms.ColorJitter(hue=.05, saturation=.05),\n",
    "    transforms.RandomHorizontalFlip(p=0.5),\n",
    "    transforms.RandomRotation(10),\n",
    "    transforms.ToTensor()\n",
    "])"
   ]
  },
  {
   "cell_type": "markdown",
   "metadata": {},
   "source": [
    "## Dataset"
   ]
  },
  {
   "cell_type": "code",
   "execution_count": 83,
   "metadata": {
    "ExecuteTime": {
     "end_time": "2019-06-12T23:29:14.841497Z",
     "start_time": "2019-06-12T23:29:14.829650Z"
    }
   },
   "outputs": [],
   "source": [
    "class Data(Dataset):\n",
    "    def __init__(self,path_x,path_y,transform=True):\n",
    "        '''\n",
    "        This Dataset assumes labels and images are stored in the same file, are the same size and are side by side.\n",
    "        Transforms include a resizing, random cropping, color jittering, and a slight rotation.\n",
    "        '''\n",
    "        self.path_x = path_x  \n",
    "        self.path_y = path_y  \n",
    "        self.resize = transforms.Resize((300,300))\n",
    "        self.to_tensor = transforms.ToTensor()\n",
    "        self.crop = transforms.CenterCrop(256)\n",
    "        \n",
    "        if transform:\n",
    "            self.transforms = transforms_pytorch\n",
    "        else:\n",
    "            self.transforms = lambda x : self.to_tensor(self.crop(self.resize(x)))\n",
    "\n",
    "    def __getitem__(self,idx):\n",
    "        curr_x = Image.open(self.path_x[idx])\n",
    "        curr_y = Image.open(self.path_y[idx])\n",
    "\n",
    "        seed = np.random.randint(2147483647)\n",
    "        random.seed(seed) # apply this seed to img tranfsorms\n",
    "        curr_x = self.transforms(curr_x)\n",
    "        random.seed(seed) # apply this seed to target tranfsorms\n",
    "        curr_y = self.transforms(curr_y)\n",
    "        curr_y = curr_y[0,:,:].unsqueeze(0)\n",
    "        \n",
    "        return {'image': curr_x, 'mask': curr_y}\n",
    "    def __len__(self):\n",
    "        return len(self.path_x)\n",
    "    "
   ]
  },
  {
   "cell_type": "markdown",
   "metadata": {},
   "source": [
    "## Classes"
   ]
  },
  {
   "cell_type": "code",
   "execution_count": 84,
   "metadata": {
    "ExecuteTime": {
     "end_time": "2019-06-12T23:29:15.306860Z",
     "start_time": "2019-06-12T23:29:15.300027Z"
    }
   },
   "outputs": [],
   "source": [
    "def conv1x1(in_channels, out_channels, groups=1):\n",
    "    return nn.Conv2d(in_channels,\n",
    "                     out_channels,\n",
    "                     kernel_size=1,\n",
    "                     groups=groups,\n",
    "                     stride=1)\n",
    "\n",
    "def conv3x3(in_channels, out_channels, stride=1, padding=1, bias=True, groups=1,dropout=0):\n",
    "    return nn.Sequential(nn.Conv2d(in_channels,\n",
    "                     out_channels,kernel_size=3,stride=stride,padding=padding,bias=bias,groups=groups),\n",
    "                     nn.BatchNorm2d(out_channels),\n",
    "                     nn.ReLU(inplace=True),\n",
    "                    # nn.Dropout(dropout)\n",
    "                        )\n",
    "\n",
    "\n",
    "def upconv2x2(in_channels, out_channels, mode='transpose'):\n",
    "    if mode == 'transpose':\n",
    "        return nn.ConvTranspose2d(in_channels,\n",
    "                                  out_channels,\n",
    "                                  kernel_size=2,\n",
    "                                  stride=2)\n",
    "    else:\n",
    "        return nn.Sequential(\n",
    "            nn.Upsample(mode='bilinear', scale_factor=2),\n",
    "            conv1x1(in_channels, out_channels))"
   ]
  },
  {
   "cell_type": "markdown",
   "metadata": {},
   "source": [
    "Down Layer"
   ]
  },
  {
   "cell_type": "code",
   "execution_count": 85,
   "metadata": {
    "ExecuteTime": {
     "end_time": "2019-06-12T23:29:15.805233Z",
     "start_time": "2019-06-12T23:29:15.800004Z"
    }
   },
   "outputs": [],
   "source": [
    "class DownConv(nn.Module):\n",
    "    def __init__(self,in_channels,out_channels,pooling=True,dropout=0):\n",
    "        super(DownConv,self).__init__()\n",
    "        self.in_channels = in_channels\n",
    "        self.out_channels = out_channels\n",
    "        self.pooling = pooling\n",
    "        self.dropout = dropout\n",
    "        self.conv1 = conv3x3(self.in_channels, self.out_channels,dropout=self.dropout)\n",
    "        self.conv2 = conv3x3(self.out_channels, self.out_channels,dropout=self.dropout)\n",
    "        if self.pooling:\n",
    "            self.pool = nn.MaxPool2d(kernel_size=2, stride=2)\n",
    "            \n",
    "    def forward(self,x):\n",
    "        x = self.conv1(x)\n",
    "        x = self.conv2(x)\n",
    "        before_pool = x\n",
    "        if self.pooling:\n",
    "            x = self.pool(x)\n",
    "        return x,before_pool"
   ]
  },
  {
   "cell_type": "markdown",
   "metadata": {},
   "source": [
    "Upsampling Layer"
   ]
  },
  {
   "cell_type": "code",
   "execution_count": 86,
   "metadata": {
    "ExecuteTime": {
     "end_time": "2019-06-12T23:29:16.369273Z",
     "start_time": "2019-06-12T23:29:16.360145Z"
    }
   },
   "outputs": [],
   "source": [
    "\n",
    "class UpConv(nn.Module):\n",
    "    def __init__(self,in_chann,out_chann,merge_mode='concat',up_mode='transpose',dropout=0):\n",
    "        super(UpConv,self).__init__()\n",
    "        self.in_channels = in_chann\n",
    "        self.out_channels = out_chann\n",
    "        self.merge_mode = merge_mode\n",
    "        self.up_mode = up_mode\n",
    "        self.dropout = dropout\n",
    "        self.upconv = upconv2x2(self.in_channels,\\\n",
    "                                self.out_channels,\\\n",
    "                                mode=self.up_mode)\n",
    "\n",
    "\n",
    "        if self.merge_mode == 'concat':\n",
    "            self.conv1 = conv3x3(2*self.out_channels,\n",
    "                                 self.out_channels,dropout=self.dropout)\n",
    "        else:\n",
    "            self.conv1 = conv3x3(self.out_channels, self.out_channels,dropout=self.dropout)\n",
    "        self.conv2 = conv3x3(self.out_channels, self.out_channels,dropout=self.dropout)\n",
    "\n",
    "    def forward(self, inputs1,inputs2):\n",
    "        inputs2 = self.upconv(inputs2)\n",
    "\n",
    "        \n",
    "        if self.merge_mode == 'concat': #concat\n",
    "            x = torch.cat((inputs2, inputs1), 1)\n",
    "            \n",
    "        else: #add\n",
    "            x = inputs2 + inputs1\n",
    "\n",
    "        x = self.conv1(x)\n",
    "        x = self.conv2(x)\n",
    "\n",
    "        return x"
   ]
  },
  {
   "cell_type": "markdown",
   "metadata": {},
   "source": [
    "\n",
    "Final Layer"
   ]
  },
  {
   "cell_type": "code",
   "execution_count": 87,
   "metadata": {
    "ExecuteTime": {
     "end_time": "2019-06-12T23:29:16.927480Z",
     "start_time": "2019-06-12T23:29:16.922893Z"
    }
   },
   "outputs": [],
   "source": [
    "class Final(nn.Module):\n",
    "    def __init__(self, in_ch, out_ch):\n",
    "        super(Final, self).__init__()\n",
    "        # 1 by 1 convolution to get prediction shaped output\n",
    "        self.conv = nn.Conv2d(in_ch, out_ch, 1)\n",
    "        self.sigmoid = nn.Sigmoid()\n",
    "    def forward(self, x):\n",
    "        x = self.sigmoid(self.conv(x))\n",
    "        return x"
   ]
  },
  {
   "cell_type": "markdown",
   "metadata": {},
   "source": [
    "## U Net Architecture "
   ]
  },
  {
   "cell_type": "code",
   "execution_count": 88,
   "metadata": {
    "ExecuteTime": {
     "end_time": "2019-06-12T23:29:17.456804Z",
     "start_time": "2019-06-12T23:29:17.439735Z"
    }
   },
   "outputs": [],
   "source": [
    "class UNet_(nn.Module):\n",
    "    def __init__(self,\\\n",
    "                 feature_start=64,\\\n",
    "                 n_layer=5,\\\n",
    "                 n_classes=2,\\\n",
    "                 conv_bottom=0,\\\n",
    "                 up_mode='transpose',\\\n",
    "                 merge_mode='concat',\\\n",
    "                 in_channels=1,\\\n",
    "                 dropout= 0\\\n",
    "                ):\n",
    "        super(UNet_,self).__init__()\n",
    "        self.n_layer = n_layer\n",
    "        self.feature_start = feature_start\n",
    "        self.n_classes = n_classes\n",
    "        self.conv_bottom = conv_bottom\n",
    "        self.in_channels = in_channels\n",
    "        self.merge_mode = merge_mode\n",
    "        assert up_mode in ['transpose','upsample'],\\\n",
    "                'up_mode must be in [transpose,upsample]'\n",
    "        self.up_mode = up_mode\n",
    "        assert not(self.up_mode == 'upsample' and self.merge_mode == 'add'),\\\n",
    "                'up_mode and merge_mode are incompatible'\n",
    "        self.dropout = dropout\n",
    "        \n",
    "        self.down_layers = []\n",
    "        self.up_layers = []\n",
    "        # Layers\n",
    "\n",
    "        for i in range(self.n_layer):\n",
    "            #out: output demension of last layer\n",
    "            in_channel = self.in_channels if i == 0 else out_channel\n",
    "            out_channel = self.feature_start*(2**i)\n",
    "            pooling = True if i < self.n_layer-1 else False\n",
    "\n",
    "            curr_down_layer = DownConv(in_channels=in_channel,\\\n",
    "                                       out_channels=out_channel,\\\n",
    "                                       pooling=pooling,\n",
    "                                       dropout=self.dropout\n",
    "                                      )\n",
    "            self.down_layers.append(curr_down_layer)\n",
    "\n",
    "        for i in range(self.n_layer-1):\n",
    "            in_channel = out_channel\n",
    "            out_channel = in_channel // 2          \n",
    "            \n",
    "            curr_up_layer = UpConv(in_chann=in_channel,\\\n",
    "                                   out_chann=out_channel,\\\n",
    "                                   merge_mode=self.merge_mode,\\\n",
    "                                   up_mode= self.up_mode,\\\n",
    "                                   dropout=self.dropout\\\n",
    "                                  )\n",
    "            self.up_layers.append(curr_up_layer)\n",
    "        self.final_layer = conv1x1(out_channel,self.n_classes)\n",
    "\n",
    "        \n",
    "        #add modules in lists\n",
    "        self.down_layers = nn.ModuleList(self.down_layers)\n",
    "        self.up_layers = nn.ModuleList(self.up_layers)\n",
    "        \n",
    "        self.reset_params()\n",
    "    def forward(self, X):\n",
    "        links = []\n",
    "        for i,layer in enumerate(self.down_layers):\n",
    "            X,before_pool = layer(X)\n",
    "            links.append(before_pool)\n",
    "\n",
    "        for i,layer in enumerate(self.up_layers):\n",
    "\n",
    "            X = layer(links[-(i+2)], X)\n",
    "        X = self.final_layer(X)\n",
    "        return(X)\n",
    "    \n",
    "    @staticmethod\n",
    "    def weight_init(m):\n",
    "        if isinstance(m, nn.Conv2d):\n",
    "            nn.init.xavier_normal(m.weight)\n",
    "            nn.init.constant(m.bias, 0)\n",
    "\n",
    "\n",
    "    def reset_params(self):\n",
    "        for i, m in enumerate(self.modules()):\n",
    "            self.weight_init(m)\n",
    "\n",
    "\n",
    "\n",
    "\n",
    "    "
   ]
  },
  {
   "cell_type": "markdown",
   "metadata": {},
   "source": [
    "## Model Instantiation"
   ]
  },
  {
   "cell_type": "code",
   "execution_count": 89,
   "metadata": {
    "ExecuteTime": {
     "end_time": "2019-06-12T23:29:18.053598Z",
     "start_time": "2019-06-12T23:29:18.023990Z"
    },
    "scrolled": true
   },
   "outputs": [
    {
     "name": "stderr",
     "output_type": "stream",
     "text": [
      "/Users/alan/anaconda3/lib/python3.6/site-packages/ipykernel_launcher.py:59: UserWarning: nn.init.xavier_normal is now deprecated in favor of nn.init.xavier_normal_.\n",
      "/Users/alan/anaconda3/lib/python3.6/site-packages/ipykernel_launcher.py:60: UserWarning: nn.init.constant is now deprecated in favor of nn.init.constant_.\n",
      "/Users/alan/anaconda3/lib/python3.6/site-packages/ipykernel_launcher.py:59: UserWarning: nn.init.xavier_normal is now deprecated in favor of nn.init.xavier_normal_.\n",
      "/Users/alan/anaconda3/lib/python3.6/site-packages/ipykernel_launcher.py:60: UserWarning: nn.init.constant is now deprecated in favor of nn.init.constant_.\n",
      "/Users/alan/anaconda3/lib/python3.6/site-packages/ipykernel_launcher.py:59: UserWarning: nn.init.xavier_normal is now deprecated in favor of nn.init.xavier_normal_.\n",
      "/Users/alan/anaconda3/lib/python3.6/site-packages/ipykernel_launcher.py:60: UserWarning: nn.init.constant is now deprecated in favor of nn.init.constant_.\n",
      "/Users/alan/anaconda3/lib/python3.6/site-packages/ipykernel_launcher.py:59: UserWarning: nn.init.xavier_normal is now deprecated in favor of nn.init.xavier_normal_.\n",
      "/Users/alan/anaconda3/lib/python3.6/site-packages/ipykernel_launcher.py:60: UserWarning: nn.init.constant is now deprecated in favor of nn.init.constant_.\n",
      "/Users/alan/anaconda3/lib/python3.6/site-packages/ipykernel_launcher.py:59: UserWarning: nn.init.xavier_normal is now deprecated in favor of nn.init.xavier_normal_.\n",
      "/Users/alan/anaconda3/lib/python3.6/site-packages/ipykernel_launcher.py:60: UserWarning: nn.init.constant is now deprecated in favor of nn.init.constant_.\n",
      "/Users/alan/anaconda3/lib/python3.6/site-packages/ipykernel_launcher.py:59: UserWarning: nn.init.xavier_normal is now deprecated in favor of nn.init.xavier_normal_.\n",
      "/Users/alan/anaconda3/lib/python3.6/site-packages/ipykernel_launcher.py:60: UserWarning: nn.init.constant is now deprecated in favor of nn.init.constant_.\n",
      "/Users/alan/anaconda3/lib/python3.6/site-packages/ipykernel_launcher.py:59: UserWarning: nn.init.xavier_normal is now deprecated in favor of nn.init.xavier_normal_.\n",
      "/Users/alan/anaconda3/lib/python3.6/site-packages/ipykernel_launcher.py:60: UserWarning: nn.init.constant is now deprecated in favor of nn.init.constant_.\n",
      "/Users/alan/anaconda3/lib/python3.6/site-packages/ipykernel_launcher.py:59: UserWarning: nn.init.xavier_normal is now deprecated in favor of nn.init.xavier_normal_.\n",
      "/Users/alan/anaconda3/lib/python3.6/site-packages/ipykernel_launcher.py:60: UserWarning: nn.init.constant is now deprecated in favor of nn.init.constant_.\n",
      "/Users/alan/anaconda3/lib/python3.6/site-packages/ipykernel_launcher.py:59: UserWarning: nn.init.xavier_normal is now deprecated in favor of nn.init.xavier_normal_.\n",
      "/Users/alan/anaconda3/lib/python3.6/site-packages/ipykernel_launcher.py:60: UserWarning: nn.init.constant is now deprecated in favor of nn.init.constant_.\n",
      "/Users/alan/anaconda3/lib/python3.6/site-packages/ipykernel_launcher.py:59: UserWarning: nn.init.xavier_normal is now deprecated in favor of nn.init.xavier_normal_.\n",
      "/Users/alan/anaconda3/lib/python3.6/site-packages/ipykernel_launcher.py:60: UserWarning: nn.init.constant is now deprecated in favor of nn.init.constant_.\n",
      "/Users/alan/anaconda3/lib/python3.6/site-packages/ipykernel_launcher.py:59: UserWarning: nn.init.xavier_normal is now deprecated in favor of nn.init.xavier_normal_.\n",
      "/Users/alan/anaconda3/lib/python3.6/site-packages/ipykernel_launcher.py:60: UserWarning: nn.init.constant is now deprecated in favor of nn.init.constant_.\n",
      "/Users/alan/anaconda3/lib/python3.6/site-packages/ipykernel_launcher.py:59: UserWarning: nn.init.xavier_normal is now deprecated in favor of nn.init.xavier_normal_.\n",
      "/Users/alan/anaconda3/lib/python3.6/site-packages/ipykernel_launcher.py:60: UserWarning: nn.init.constant is now deprecated in favor of nn.init.constant_.\n",
      "/Users/alan/anaconda3/lib/python3.6/site-packages/ipykernel_launcher.py:59: UserWarning: nn.init.xavier_normal is now deprecated in favor of nn.init.xavier_normal_.\n",
      "/Users/alan/anaconda3/lib/python3.6/site-packages/ipykernel_launcher.py:60: UserWarning: nn.init.constant is now deprecated in favor of nn.init.constant_.\n",
      "/Users/alan/anaconda3/lib/python3.6/site-packages/ipykernel_launcher.py:59: UserWarning: nn.init.xavier_normal is now deprecated in favor of nn.init.xavier_normal_.\n",
      "/Users/alan/anaconda3/lib/python3.6/site-packages/ipykernel_launcher.py:60: UserWarning: nn.init.constant is now deprecated in favor of nn.init.constant_.\n",
      "/Users/alan/anaconda3/lib/python3.6/site-packages/ipykernel_launcher.py:59: UserWarning: nn.init.xavier_normal is now deprecated in favor of nn.init.xavier_normal_.\n",
      "/Users/alan/anaconda3/lib/python3.6/site-packages/ipykernel_launcher.py:60: UserWarning: nn.init.constant is now deprecated in favor of nn.init.constant_.\n"
     ]
    }
   ],
   "source": [
    "\n",
    "unet =  UNet_(feature_start=starting_channels,\\\n",
    "             merge_mode='concat',\\\n",
    "             n_layer=n_layer,n_classes=n_classes,\\\n",
    "             in_channels=in_channel)\n",
    "\n"
   ]
  },
  {
   "cell_type": "markdown",
   "metadata": {},
   "source": []
  },
  {
   "cell_type": "code",
   "execution_count": null,
   "metadata": {},
   "outputs": [],
   "source": []
  },
  {
   "cell_type": "markdown",
   "metadata": {},
   "source": [
    "## Training"
   ]
  },
  {
   "cell_type": "code",
   "execution_count": 90,
   "metadata": {
    "ExecuteTime": {
     "end_time": "2019-06-12T23:29:19.510300Z",
     "start_time": "2019-06-12T23:29:19.504690Z"
    }
   },
   "outputs": [],
   "source": [
    "train_dataset = Data(train_img,train_lab,transform=True)\n",
    "val_dataset = Data(test_img,test_lab,transform=False)\n",
    "\n",
    "train_dataloader = torch.utils.data.DataLoader(train_dataset,\\\n",
    "                                               batch_size=batch_size,\\\n",
    "                                               shuffle=True,\\\n",
    "                                               num_workers=8)\n",
    "val_dataloader = torch.utils.data.DataLoader(val_dataset,\\\n",
    "                                             batch_size=batch_size,\\\n",
    "                                             shuffle=True,\\\n",
    "                                             num_workers=8)"
   ]
  },
  {
   "cell_type": "code",
   "execution_count": 91,
   "metadata": {
    "ExecuteTime": {
     "end_time": "2019-06-12T23:29:19.965381Z",
     "start_time": "2019-06-12T23:29:19.960058Z"
    }
   },
   "outputs": [],
   "source": [
    "from datetime import datetime\n",
    "def training_loop(model, train_dl, valid_dl, steps=3, lr_low=1e-5, lr_high=0.01):\n",
    "    for i in range(steps):\n",
    "        start = datetime.now() \n",
    "        train_loss,val_loss = train_triangular_policy(model, train_dl, valid_dl, lr_low, lr_high)\n",
    "        end = datetime.now()\n",
    "        t = 'Time elapsed {}'.format(end - start)\n",
    "        return train_loss,val_loss"
   ]
  },
  {
   "cell_type": "code",
   "execution_count": 92,
   "metadata": {
    "ExecuteTime": {
     "end_time": "2019-06-12T23:29:24.469229Z",
     "start_time": "2019-06-12T23:29:24.464523Z"
    }
   },
   "outputs": [],
   "source": [
    "def evaluate(model,val_dataloader):\n",
    "    total = 0\n",
    "    test_loss = 0\n",
    "    for data in val_dataloader:\n",
    "        model.eval()\n",
    "        \n",
    "        data, target = Variable(data[\"image\"]), Variable(data[\"mask\"])\n",
    "        output = model(data.float())\n",
    "\n",
    "        total += batch_size\n",
    "\n",
    "        test_loss += batch_size * dice_hard_loss(output, target).item()\n",
    "\n",
    "    test_loss /= total\n",
    "    return test_loss"
   ]
  },
  {
   "cell_type": "code",
   "execution_count": 93,
   "metadata": {
    "ExecuteTime": {
     "end_time": "2019-06-12T23:29:24.973413Z",
     "start_time": "2019-06-12T23:29:24.959754Z"
    },
    "scrolled": true
   },
   "outputs": [
    {
     "ename": "NameError",
     "evalue": "name 'LR_range_finder' is not defined",
     "output_type": "error",
     "traceback": [
      "\u001b[0;31m---------------------------------------------------------------------------\u001b[0m",
      "\u001b[0;31mNameError\u001b[0m                                 Traceback (most recent call last)",
      "\u001b[0;32m<ipython-input-93-71390c2c310c>\u001b[0m in \u001b[0;36m<module>\u001b[0;34m()\u001b[0m\n\u001b[1;32m      2\u001b[0m \u001b[0mPATH\u001b[0m \u001b[0;34m=\u001b[0m \u001b[0mPath\u001b[0m\u001b[0;34m(\u001b[0m\u001b[0;34m\".\"\u001b[0m\u001b[0;34m)\u001b[0m\u001b[0;34m\u001b[0m\u001b[0;34m\u001b[0m\u001b[0m\n\u001b[1;32m      3\u001b[0m \u001b[0;34m\u001b[0m\u001b[0m\n\u001b[0;32m----> 4\u001b[0;31m \u001b[0mlrs\u001b[0m\u001b[0;34m,\u001b[0m \u001b[0mlosses\u001b[0m \u001b[0;34m=\u001b[0m \u001b[0mLR_range_finder\u001b[0m\u001b[0;34m(\u001b[0m\u001b[0munet\u001b[0m\u001b[0;34m,\u001b[0m \u001b[0mtrain_dataloader\u001b[0m\u001b[0;34m,\u001b[0m \u001b[0mlr_low\u001b[0m\u001b[0;34m=\u001b[0m\u001b[0;36m0.00001\u001b[0m\u001b[0;34m,\u001b[0m \u001b[0mlr_high\u001b[0m\u001b[0;34m=\u001b[0m\u001b[0;36m0.2\u001b[0m\u001b[0;34m,\u001b[0m \u001b[0mepochs\u001b[0m\u001b[0;34m=\u001b[0m\u001b[0;36m1\u001b[0m\u001b[0;34m)\u001b[0m\u001b[0;34m\u001b[0m\u001b[0;34m\u001b[0m\u001b[0m\n\u001b[0m",
      "\u001b[0;31mNameError\u001b[0m: name 'LR_range_finder' is not defined"
     ]
    }
   ],
   "source": [
    "from pathlib import Path\n",
    "PATH = Path(\".\")\n",
    "\n",
    "lrs, losses = LR_range_finder(unet, train_dataloader, lr_low=0.00001, lr_high=0.2, epochs=1)"
   ]
  },
  {
   "cell_type": "code",
   "execution_count": 94,
   "metadata": {
    "ExecuteTime": {
     "end_time": "2019-06-12T23:29:25.718296Z",
     "start_time": "2019-06-12T23:29:25.701014Z"
    },
    "scrolled": true
   },
   "outputs": [
    {
     "ename": "NameError",
     "evalue": "name 'lrs' is not defined",
     "output_type": "error",
     "traceback": [
      "\u001b[0;31m---------------------------------------------------------------------------\u001b[0m",
      "\u001b[0;31mNameError\u001b[0m                                 Traceback (most recent call last)",
      "\u001b[0;32m<ipython-input-94-868d655cc1d7>\u001b[0m in \u001b[0;36m<module>\u001b[0;34m()\u001b[0m\n\u001b[0;32m----> 1\u001b[0;31m \u001b[0mplt\u001b[0m\u001b[0;34m.\u001b[0m\u001b[0mplot\u001b[0m\u001b[0;34m(\u001b[0m\u001b[0mlrs\u001b[0m\u001b[0;34m,\u001b[0m\u001b[0mlosses\u001b[0m\u001b[0;34m)\u001b[0m\u001b[0;34m\u001b[0m\u001b[0;34m\u001b[0m\u001b[0m\n\u001b[0m",
      "\u001b[0;31mNameError\u001b[0m: name 'lrs' is not defined"
     ]
    }
   ],
   "source": [
    "plt.plot(lrs,losses)"
   ]
  },
  {
   "cell_type": "code",
   "execution_count": null,
   "metadata": {},
   "outputs": [],
   "source": []
  },
  {
   "cell_type": "code",
   "execution_count": 95,
   "metadata": {
    "ExecuteTime": {
     "end_time": "2019-06-12T23:29:26.449386Z",
     "start_time": "2019-06-12T23:29:26.426510Z"
    },
    "scrolled": true
   },
   "outputs": [
    {
     "name": "stdout",
     "output_type": "stream",
     "text": [
      "\n",
      "    Starting training:\n",
      "        Epochs: 2000\n",
      "        Batch size: 1\n",
      "        Learning rate: 0.0005\n",
      "        CUDA: True\n",
      "    \n"
     ]
    },
    {
     "ename": "NameError",
     "evalue": "name 'dice_loss' is not defined",
     "output_type": "error",
     "traceback": [
      "\u001b[0;31m---------------------------------------------------------------------------\u001b[0m",
      "\u001b[0;31mNameError\u001b[0m                                 Traceback (most recent call last)",
      "\u001b[0;32m<ipython-input-95-d1d60511c21f>\u001b[0m in \u001b[0;36m<module>\u001b[0;34m()\u001b[0m\n\u001b[1;32m      6\u001b[0m         \u001b[0mCUDA\u001b[0m\u001b[0;34m:\u001b[0m \u001b[0;34m{\u001b[0m\u001b[0;34m}\u001b[0m\u001b[0;34m\u001b[0m\u001b[0;34m\u001b[0m\u001b[0m\n\u001b[1;32m      7\u001b[0m     '''.format(epochs, batch_size, lr,  str(gpu)))\n\u001b[0;32m----> 8\u001b[0;31m \u001b[0mcriterion\u001b[0m \u001b[0;34m=\u001b[0m \u001b[0mdice_loss\u001b[0m\u001b[0;34m\u001b[0m\u001b[0;34m\u001b[0m\u001b[0m\n\u001b[0m\u001b[1;32m      9\u001b[0m \u001b[0;34m\u001b[0m\u001b[0m\n\u001b[1;32m     10\u001b[0m \u001b[0mnew_train_losses\u001b[0m\u001b[0;34m=\u001b[0m\u001b[0;34m[\u001b[0m\u001b[0;34m]\u001b[0m\u001b[0;34m\u001b[0m\u001b[0;34m\u001b[0m\u001b[0m\n",
      "\u001b[0;31mNameError\u001b[0m: name 'dice_loss' is not defined"
     ]
    }
   ],
   "source": [
    "print('''\n",
    "    Starting training:\n",
    "        Epochs: {}\n",
    "        Batch size: {}\n",
    "        Learning rate: {}\n",
    "        CUDA: {}\n",
    "    '''.format(epochs, batch_size, lr,  str(gpu)))\n",
    "criterion = dice_loss\n",
    "\n",
    "new_train_losses=[]\n",
    "\n",
    "new_test_losses=[]\n",
    "highest_dice= -1\n",
    "lr_high = 0.03\n",
    "lr_low  = 0.0001\n",
    "for epoch in range(0,epochs):\n",
    "    ind = 0\n",
    "    p = PATH/\"mode_tmp.pth\"\n",
    "    save_model(unet, str(p))\n",
    "    iterations =  len(train_dataloader)\n",
    "    delta = (0.03 - 0)/iterations\n",
    "    lrs = [0 + i*delta for i in range(iterations)]\n",
    "    losses = []\n",
    "    correct = 0 \n",
    "    training_loop(unet, train_dataloader, val_dataloader, steps=1, lr_low=lr_low, lr_high=lr_high)\n",
    "\n",
    "    for sample in train_dataloader:\n",
    "        x,y = sample['image'],sample['mask']\n",
    "\n",
    "        optim = get_optimizer(unet, lr=lrs[ind])\n",
    "        x = x.cuda().float()\n",
    "        y = y.cuda().float()\n",
    "        out = unet(x)\n",
    "\n",
    "        \n",
    "        \n",
    "        loss = F.binary_cross_entropy_with_logits(out, y)\n",
    "        optim.zero_grad()\n",
    "        loss.backward()\n",
    "        #optim.step()\n",
    "        losses.append(loss.item())\n",
    "\n",
    "        ind +=1\n",
    "    load_model(unet, str(p))\n",
    "    \n",
    "    plt.plot(lrs,losses)\n",
    "    plt.show()\n",
    "    print('Low Learning Rate:')\n",
    "    lr_low = float(input())\n",
    "    print('High Learning Rate:')\n",
    "    lr_high = float(input())\n",
    "    \n",
    "    "
   ]
  },
  {
   "cell_type": "code",
   "execution_count": 96,
   "metadata": {
    "ExecuteTime": {
     "end_time": "2019-06-12T23:29:27.213506Z",
     "start_time": "2019-06-12T23:29:27.209450Z"
    }
   },
   "outputs": [],
   "source": [
    "def save_losses(new_train_losses,new_test_losses):\n",
    "    with open('new_model_losses.txt','w+') as f:\n",
    "        for line in range(len(new_train_losses)):\n",
    "            f.write(str(new_train_losses[line])+','+str(new_test_losses[line])+'\\n')"
   ]
  },
  {
   "cell_type": "code",
   "execution_count": 98,
   "metadata": {
    "ExecuteTime": {
     "end_time": "2019-06-12T23:29:28.292327Z",
     "start_time": "2019-06-12T23:29:28.286799Z"
    }
   },
   "outputs": [],
   "source": [
    "input = None"
   ]
  },
  {
   "cell_type": "code",
   "execution_count": 100,
   "metadata": {
    "ExecuteTime": {
     "end_time": "2019-06-12T23:29:33.362699Z",
     "start_time": "2019-06-12T23:29:33.076480Z"
    }
   },
   "outputs": [
    {
     "data": {
      "image/png": "[encoded data removed]",
      "text/plain": [
       "<Figure size 1152x648 with 1 Axes>"
      ]
     },
     "metadata": {},
     "output_type": "display_data"
    }
   ],
   "source": [
    "fig = plt.figure(figsize=[16,9])\n",
    "fig.suptitle(\"Results\", fontsize=25)\n",
    "ax = plt.subplot(\"221\")\n",
    "ax.set_title(\"Withouth New Sampling\",fontsize=16)\n",
    "ax.plot(new_test_losses,label=\"New Test\")\n",
    "ax.plot(test_losses,label=\"Test\")\n",
    "ax.set_xlabel('Epoch')\n",
    "ax.set_ylabel('Hard Dice Score')\n",
    "ax.set_ylim((0,1))\n",
    "\n",
    "\n",
    "\n",
    "plt.show()"
   ]
  },
  {
   "cell_type": "code",
   "execution_count": 22,
   "metadata": {
    "ExecuteTime": {
     "end_time": "2019-06-01T04:33:36.523574Z",
     "start_time": "2019-06-01T04:33:36.509651Z"
    },
    "scrolled": true
   },
   "outputs": [
    {
     "ename": "NameError",
     "evalue": "name 'epochs' is not defined",
     "output_type": "error",
     "traceback": [
      "\u001b[0;31m---------------------------------------------------------------------------\u001b[0m",
      "\u001b[0;31mNameError\u001b[0m                                 Traceback (most recent call last)",
      "\u001b[0;32m<ipython-input-22-2f56ff7203b1>\u001b[0m in \u001b[0;36m<module>\u001b[0;34m()\u001b[0m\n\u001b[1;32m      5\u001b[0m         \u001b[0mLearning\u001b[0m \u001b[0mrate\u001b[0m\u001b[0;34m:\u001b[0m \u001b[0;34m{\u001b[0m\u001b[0;34m}\u001b[0m\u001b[0;34m\u001b[0m\u001b[0;34m\u001b[0m\u001b[0m\n\u001b[1;32m      6\u001b[0m         \u001b[0mCUDA\u001b[0m\u001b[0;34m:\u001b[0m \u001b[0;34m{\u001b[0m\u001b[0;34m}\u001b[0m\u001b[0;34m\u001b[0m\u001b[0;34m\u001b[0m\u001b[0m\n\u001b[0;32m----> 7\u001b[0;31m     '''.format(epochs, batch_size, lr,  str(gpu)))\n\u001b[0m\u001b[1;32m      8\u001b[0m \u001b[0mcriterion\u001b[0m \u001b[0;34m=\u001b[0m \u001b[0mdice_loss\u001b[0m\u001b[0;34m\u001b[0m\u001b[0;34m\u001b[0m\u001b[0m\n\u001b[1;32m      9\u001b[0m \u001b[0;34m\u001b[0m\u001b[0m\n",
      "\u001b[0;31mNameError\u001b[0m: name 'epochs' is not defined"
     ]
    }
   ],
   "source": [
    "print('''\n",
    "    Starting training:\n",
    "        Epochs: {}\n",
    "        Batch size: {}\n",
    "        Learning rate: {}\n",
    "        CUDA: {}\n",
    "    '''.format(epochs, batch_size, lr,  str(gpu)))\n",
    "criterion = dice_loss\n",
    "\n",
    "new_train_losses=[]\n",
    "\n",
    "new_test_losses=[]\n",
    "highest_dice= -1\n",
    "lr_high = 0.003\n",
    "lr_low  = 0.001\n",
    "for epoch in range(0,5):\n",
    "    print('Epoch:'+str(epoch))\n",
    "    training_loop(unet, train_dataloader, val_dataloader, steps=1, lr_low=lr_low, lr_high=lr_high)\n",
    "lr_high = 0.002\n",
    "lr_low  = 0.0005\n",
    "for epoch in range(10,20):\n",
    "    print('Epoch:'+str(epoch))\n",
    "    training_loop(unet, train_dataloader, val_dataloader, steps=1, lr_low=lr_low, lr_high=lr_high)"
   ]
  }
 ],
 "metadata": {
  "kernelspec": {
   "display_name": "Python 3",
   "language": "python",
   "name": "python3"
  },
  "language_info": {
   "codemirror_mode": {
    "name": "ipython",
    "version": 3
   },
   "file_extension": ".py",
   "mimetype": "text/x-python",
   "name": "python",
   "nbconvert_exporter": "python",
   "pygments_lexer": "ipython3",
   "version": "3.6.8"
  }
 },
 "nbformat": 4,
 "nbformat_minor": 2
}
